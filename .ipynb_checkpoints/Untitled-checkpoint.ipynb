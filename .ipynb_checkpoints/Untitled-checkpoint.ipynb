{
 "cells": [
  {
   "cell_type": "code",
   "execution_count": 1,
   "id": "6d9d023b",
   "metadata": {},
   "outputs": [],
   "source": [
    "import pandas as pd\n",
    "import matplotlib.pyplot as plt\n",
    "import seaborn as sns\n",
    "import scipy as sp"
   ]
  },
  {
   "cell_type": "code",
   "execution_count": 20,
   "id": "bf435848",
   "metadata": {},
   "outputs": [],
   "source": [
    "import csv\n",
    "\n",
    "padron = \"C:\\\\Users\\\\jerem\\\\OneDrive\\\\Escritorio\\\\TP Labo de Datos\\\\padron.csv\"\n",
    "establecimientos = \"C:\\\\Users\\\\jerem\\\\OneDrive\\\\Escritorio\\\\TP Labo de Datos\\\\establecimientos.csv\"\n",
    "\n",
    "with open(padron, 'r', encoding='utf-8', errors='replace') as file:\n",
    "    padron = file.read()\n",
    "with open(establecimientos, 'r', encoding='utf-8', errors='replace') as file:\n",
    "    establecimiento = file.read()\n",
    "     \n",
    "\n",
    "from io import StringIO\n",
    "df_padron = pd.read_csv(StringIO(padron))\n",
    "df_establecimiento = pd.read_csv(StringIO(establecimiento))"
   ]
  },
  {
   "cell_type": "code",
   "execution_count": 50,
   "id": "a582a0af",
   "metadata": {},
   "outputs": [],
   "source": [
    "df_padron = df_padron.rename(columns={'razon social': 'razon_social'})"
   ]
  },
  {
   "cell_type": "code",
   "execution_count": 78,
   "id": "261e6b30",
   "metadata": {
    "scrolled": true
   },
   "outputs": [
    {
     "data": {
      "text/plain": [
       "Certificadora_id\n",
       "1    1\n",
       "2    1\n",
       "3    1\n",
       "4    1\n",
       "Name: certificadora_deno, dtype: int64"
      ]
     },
     "execution_count": 78,
     "metadata": {},
     "output_type": "execute_result"
    }
   ],
   "source": [
    "df_padron.groupby('Certificadora_id')['certificadora_deno'].nunique()"
   ]
  },
  {
   "cell_type": "code",
   "execution_count": 77,
   "id": "580112a1",
   "metadata": {},
   "outputs": [
    {
     "data": {
      "text/plain": [
       "Certificadora_id  certificadora_deno\n",
       "2                 OIA S.A.              640\n",
       "1                 Argencert S.R.L.      428\n",
       "3                 Letis S.A.            231\n",
       "4                 Food Safety S.A.       96\n",
       "dtype: int64"
      ]
     },
     "execution_count": 77,
     "metadata": {},
     "output_type": "execute_result"
    }
   ],
   "source": [
    "df_padron[['Certificadora_id','certificadora_deno']].value_counts()"
   ]
  },
  {
   "cell_type": "code",
   "execution_count": 45,
   "id": "87b1c247",
   "metadata": {},
   "outputs": [
    {
     "data": {
      "text/html": [
       "<div>\n",
       "<style scoped>\n",
       "    .dataframe tbody tr th:only-of-type {\n",
       "        vertical-align: middle;\n",
       "    }\n",
       "\n",
       "    .dataframe tbody tr th {\n",
       "        vertical-align: top;\n",
       "    }\n",
       "\n",
       "    .dataframe thead th {\n",
       "        text-align: right;\n",
       "    }\n",
       "</style>\n",
       "<table border=\"1\" class=\"dataframe\">\n",
       "  <thead>\n",
       "    <tr style=\"text-align: right;\">\n",
       "      <th></th>\n",
       "      <th>pais_id</th>\n",
       "      <th>pais</th>\n",
       "      <th>provincia_id</th>\n",
       "      <th>provincia</th>\n",
       "      <th>departamento</th>\n",
       "      <th>localidad</th>\n",
       "      <th>rubro</th>\n",
       "      <th>productos</th>\n",
       "      <th>categoria_id</th>\n",
       "      <th>categoria_desc</th>\n",
       "      <th>Certificadora_id</th>\n",
       "      <th>certificadora_deno</th>\n",
       "      <th>razon social</th>\n",
       "      <th>establecimiento</th>\n",
       "    </tr>\n",
       "  </thead>\n",
       "  <tbody>\n",
       "    <tr>\n",
       "      <th>0</th>\n",
       "      <td>32</td>\n",
       "      <td>ARGENTINA</td>\n",
       "      <td>6</td>\n",
       "      <td>BUENOS AIRES</td>\n",
       "      <td>BARADERO</td>\n",
       "      <td>INDEFINIDA</td>\n",
       "      <td>AGRICULTURA</td>\n",
       "      <td>SOJA</td>\n",
       "      <td>1</td>\n",
       "      <td>Productores</td>\n",
       "      <td>2</td>\n",
       "      <td>OIA S.A.</td>\n",
       "      <td>ADD CROPS S.A.</td>\n",
       "      <td>BARADERO 1</td>\n",
       "    </tr>\n",
       "    <tr>\n",
       "      <th>1</th>\n",
       "      <td>32</td>\n",
       "      <td>ARGENTINA</td>\n",
       "      <td>6</td>\n",
       "      <td>BUENOS AIRES</td>\n",
       "      <td>BARADERO</td>\n",
       "      <td>INDEFINIDA</td>\n",
       "      <td>AGRICULTURA</td>\n",
       "      <td>GIRASOL, MIJO, RESIDUO VEGETAL</td>\n",
       "      <td>1</td>\n",
       "      <td>Productores</td>\n",
       "      <td>2</td>\n",
       "      <td>OIA S.A.</td>\n",
       "      <td>ADD CROPS S.A.</td>\n",
       "      <td>BARADERO 2</td>\n",
       "    </tr>\n",
       "    <tr>\n",
       "      <th>2</th>\n",
       "      <td>32</td>\n",
       "      <td>ARGENTINA</td>\n",
       "      <td>6</td>\n",
       "      <td>BUENOS AIRES</td>\n",
       "      <td>BARADERO</td>\n",
       "      <td>INDEFINIDA</td>\n",
       "      <td>AGRICULTURA</td>\n",
       "      <td>MAIZ, AVENA, CAMPO NATURAL</td>\n",
       "      <td>1</td>\n",
       "      <td>Productores</td>\n",
       "      <td>2</td>\n",
       "      <td>OIA S.A.</td>\n",
       "      <td>ADD CROPS S.A.</td>\n",
       "      <td>EL BUEN RETIRO</td>\n",
       "    </tr>\n",
       "    <tr>\n",
       "      <th>3</th>\n",
       "      <td>32</td>\n",
       "      <td>ARGENTINA</td>\n",
       "      <td>6</td>\n",
       "      <td>BUENOS AIRES</td>\n",
       "      <td>AZUL</td>\n",
       "      <td>INDEFINIDA</td>\n",
       "      <td>AGRICULTURA</td>\n",
       "      <td>SOJA, ALPISTE</td>\n",
       "      <td>1</td>\n",
       "      <td>Productores</td>\n",
       "      <td>3</td>\n",
       "      <td>Letis S.A.</td>\n",
       "      <td>AGRICOLA EL HORIZONTE S.A.</td>\n",
       "      <td>EL RELINCHO</td>\n",
       "    </tr>\n",
       "    <tr>\n",
       "      <th>4</th>\n",
       "      <td>32</td>\n",
       "      <td>ARGENTINA</td>\n",
       "      <td>6</td>\n",
       "      <td>BUENOS AIRES</td>\n",
       "      <td>AZUL</td>\n",
       "      <td>INDEFINIDA</td>\n",
       "      <td>AGRICULTURA</td>\n",
       "      <td>SOJA, ALPISTE, TRIGO</td>\n",
       "      <td>1</td>\n",
       "      <td>Productores</td>\n",
       "      <td>3</td>\n",
       "      <td>Letis S.A.</td>\n",
       "      <td>AGRICOLA EL HORIZONTE S.A.</td>\n",
       "      <td>EL HORIZONTE</td>\n",
       "    </tr>\n",
       "  </tbody>\n",
       "</table>\n",
       "</div>"
      ],
      "text/plain": [
       "   pais_id       pais  provincia_id     provincia departamento   localidad  \\\n",
       "0       32  ARGENTINA             6  BUENOS AIRES     BARADERO  INDEFINIDA   \n",
       "1       32  ARGENTINA             6  BUENOS AIRES     BARADERO  INDEFINIDA   \n",
       "2       32  ARGENTINA             6  BUENOS AIRES     BARADERO  INDEFINIDA   \n",
       "3       32  ARGENTINA             6  BUENOS AIRES         AZUL  INDEFINIDA   \n",
       "4       32  ARGENTINA             6  BUENOS AIRES         AZUL  INDEFINIDA   \n",
       "\n",
       "         rubro                       productos  categoria_id categoria_desc  \\\n",
       "0  AGRICULTURA                            SOJA             1    Productores   \n",
       "1  AGRICULTURA  GIRASOL, MIJO, RESIDUO VEGETAL             1    Productores   \n",
       "2  AGRICULTURA      MAIZ, AVENA, CAMPO NATURAL             1    Productores   \n",
       "3  AGRICULTURA                   SOJA, ALPISTE             1    Productores   \n",
       "4  AGRICULTURA            SOJA, ALPISTE, TRIGO             1    Productores   \n",
       "\n",
       "   Certificadora_id certificadora_deno                razon social  \\\n",
       "0                 2           OIA S.A.              ADD CROPS S.A.   \n",
       "1                 2           OIA S.A.              ADD CROPS S.A.   \n",
       "2                 2           OIA S.A.              ADD CROPS S.A.   \n",
       "3                 3         Letis S.A.  AGRICOLA EL HORIZONTE S.A.   \n",
       "4                 3         Letis S.A.  AGRICOLA EL HORIZONTE S.A.   \n",
       "\n",
       "  establecimiento  \n",
       "0      BARADERO 1  \n",
       "1      BARADERO 2  \n",
       "2  EL BUEN RETIRO  \n",
       "3     EL RELINCHO  \n",
       "4    EL HORIZONTE  "
      ]
     },
     "execution_count": 45,
     "metadata": {},
     "output_type": "execute_result"
    }
   ],
   "source": [
    "df_padron.head()"
   ]
  },
  {
   "cell_type": "code",
   "execution_count": 42,
   "id": "aa2e744d",
   "metadata": {},
   "outputs": [
    {
     "data": {
      "text/plain": [
       "Index(['pais_id', 'pais', 'provincia_id', 'provincia', 'departamento',\n",
       "       'localidad', 'rubro', 'productos', 'categoria_id', 'categoria_desc',\n",
       "       'Certificadora_id', 'certificadora_deno', 'razon social',\n",
       "       'establecimiento'],\n",
       "      dtype='object')"
      ]
     },
     "execution_count": 42,
     "metadata": {},
     "output_type": "execute_result"
    }
   ],
   "source": [
    "df_padron.columns"
   ]
  },
  {
   "cell_type": "code",
   "execution_count": 81,
   "id": "13eaca34",
   "metadata": {},
   "outputs": [
    {
     "data": {
      "text/plain": [
       "pais_id               389\n",
       "pais                  389\n",
       "provincia_id          389\n",
       "provincia             389\n",
       "departamento          389\n",
       "localidad             389\n",
       "rubro                 389\n",
       "productos             389\n",
       "categoria_id          389\n",
       "categoria_desc        389\n",
       "Certificadora_id      389\n",
       "certificadora_deno    389\n",
       "razon_social          389\n",
       "establecimiento       389\n",
       "dtype: int64"
      ]
     },
     "execution_count": 81,
     "metadata": {},
     "output_type": "execute_result"
    }
   ],
   "source": [
    "df_padron[df_padron['localidad']=='INDEFINIDO'].count()"
   ]
  },
  {
   "cell_type": "code",
   "execution_count": 85,
   "id": "d901fe65",
   "metadata": {},
   "outputs": [
    {
     "data": {
      "text/html": [
       "<div>\n",
       "<style scoped>\n",
       "    .dataframe tbody tr th:only-of-type {\n",
       "        vertical-align: middle;\n",
       "    }\n",
       "\n",
       "    .dataframe tbody tr th {\n",
       "        vertical-align: top;\n",
       "    }\n",
       "\n",
       "    .dataframe thead th {\n",
       "        text-align: right;\n",
       "    }\n",
       "</style>\n",
       "<table border=\"1\" class=\"dataframe\">\n",
       "  <thead>\n",
       "    <tr style=\"text-align: right;\">\n",
       "      <th></th>\n",
       "      <th>ID</th>\n",
       "      <th>departamento</th>\n",
       "      <th>provincia</th>\n",
       "      <th>lat</th>\n",
       "      <th>lon</th>\n",
       "      <th>in_departamentos</th>\n",
       "      <th>provincia_id</th>\n",
       "      <th>empleo</th>\n",
       "      <th>clae6</th>\n",
       "      <th>clae2</th>\n",
       "      <th>letra</th>\n",
       "      <th>Tipo_coordenada</th>\n",
       "      <th>proporcion_mujeres</th>\n",
       "    </tr>\n",
       "  </thead>\n",
       "  <tbody>\n",
       "    <tr>\n",
       "      <th>0</th>\n",
       "      <td>10000000018M51M5M2G1111111543049</td>\n",
       "      <td>Capital</td>\n",
       "      <td>Catamarca</td>\n",
       "      <td>-28.464</td>\n",
       "      <td>-65.785</td>\n",
       "      <td>10049</td>\n",
       "      <td>10</td>\n",
       "      <td>a. 1-9</td>\n",
       "      <td>949990</td>\n",
       "      <td>94</td>\n",
       "      <td>S</td>\n",
       "      <td>Exacta</td>\n",
       "      <td>1.0</td>\n",
       "    </tr>\n",
       "    <tr>\n",
       "      <th>1</th>\n",
       "      <td>1000000002MM0P1201G2020208914049</td>\n",
       "      <td>Capital</td>\n",
       "      <td>Catamarca</td>\n",
       "      <td>-28.464</td>\n",
       "      <td>-65.766</td>\n",
       "      <td>10049</td>\n",
       "      <td>10</td>\n",
       "      <td>a. 1-9</td>\n",
       "      <td>681098</td>\n",
       "      <td>68</td>\n",
       "      <td>L</td>\n",
       "      <td>Aproximada</td>\n",
       "      <td>0.0</td>\n",
       "    </tr>\n",
       "    <tr>\n",
       "      <th>2</th>\n",
       "      <td>1000000002MM1017P0G2020202577070</td>\n",
       "      <td>La Paz</td>\n",
       "      <td>Catamarca</td>\n",
       "      <td>-29.280</td>\n",
       "      <td>-65.060</td>\n",
       "      <td>10070</td>\n",
       "      <td>10</td>\n",
       "      <td>a. 1-9</td>\n",
       "      <td>89110</td>\n",
       "      <td>8</td>\n",
       "      <td>B</td>\n",
       "      <td>Exacta</td>\n",
       "      <td>0.0</td>\n",
       "    </tr>\n",
       "    <tr>\n",
       "      <th>3</th>\n",
       "      <td>1000000006681P86GG667501414147181049</td>\n",
       "      <td>Capital</td>\n",
       "      <td>Catamarca</td>\n",
       "      <td>-28.463</td>\n",
       "      <td>-65.796</td>\n",
       "      <td>10049</td>\n",
       "      <td>10</td>\n",
       "      <td>b. 10-49</td>\n",
       "      <td>11299</td>\n",
       "      <td>1</td>\n",
       "      <td>A</td>\n",
       "      <td>Aproximada</td>\n",
       "      <td>0.0</td>\n",
       "    </tr>\n",
       "    <tr>\n",
       "      <th>4</th>\n",
       "      <td>1000000007215MG51051616168109070</td>\n",
       "      <td>La Paz</td>\n",
       "      <td>Catamarca</td>\n",
       "      <td>-28.880</td>\n",
       "      <td>-65.140</td>\n",
       "      <td>10070</td>\n",
       "      <td>10</td>\n",
       "      <td>a. 1-9</td>\n",
       "      <td>14113</td>\n",
       "      <td>1</td>\n",
       "      <td>A</td>\n",
       "      <td>Aproximada</td>\n",
       "      <td>0.0</td>\n",
       "    </tr>\n",
       "  </tbody>\n",
       "</table>\n",
       "</div>"
      ],
      "text/plain": [
       "                                     ID departamento  provincia     lat  \\\n",
       "0      10000000018M51M5M2G1111111543049      Capital  Catamarca -28.464   \n",
       "1      1000000002MM0P1201G2020208914049      Capital  Catamarca -28.464   \n",
       "2      1000000002MM1017P0G2020202577070       La Paz  Catamarca -29.280   \n",
       "3  1000000006681P86GG667501414147181049      Capital  Catamarca -28.463   \n",
       "4      1000000007215MG51051616168109070       La Paz  Catamarca -28.880   \n",
       "\n",
       "      lon  in_departamentos  provincia_id    empleo   clae6  clae2 letra  \\\n",
       "0 -65.785             10049            10    a. 1-9  949990     94     S   \n",
       "1 -65.766             10049            10    a. 1-9  681098     68     L   \n",
       "2 -65.060             10070            10    a. 1-9   89110      8     B   \n",
       "3 -65.796             10049            10  b. 10-49   11299      1     A   \n",
       "4 -65.140             10070            10    a. 1-9   14113      1     A   \n",
       "\n",
       "  Tipo_coordenada  proporcion_mujeres  \n",
       "0          Exacta                 1.0  \n",
       "1      Aproximada                 0.0  \n",
       "2          Exacta                 0.0  \n",
       "3      Aproximada                 0.0  \n",
       "4      Aproximada                 0.0  "
      ]
     },
     "execution_count": 85,
     "metadata": {},
     "output_type": "execute_result"
    }
   ],
   "source": [
    "df_padron.head()"
   ]
  },
  {
   "cell_type": "code",
   "execution_count": null,
   "id": "37f6cd3d",
   "metadata": {},
   "outputs": [],
   "source": []
  }
 ],
 "metadata": {
  "kernelspec": {
   "display_name": "Python 3 (ipykernel)",
   "language": "python",
   "name": "python3"
  },
  "language_info": {
   "codemirror_mode": {
    "name": "ipython",
    "version": 3
   },
   "file_extension": ".py",
   "mimetype": "text/x-python",
   "name": "python",
   "nbconvert_exporter": "python",
   "pygments_lexer": "ipython3",
   "version": "3.9.13"
  }
 },
 "nbformat": 4,
 "nbformat_minor": 5
}
